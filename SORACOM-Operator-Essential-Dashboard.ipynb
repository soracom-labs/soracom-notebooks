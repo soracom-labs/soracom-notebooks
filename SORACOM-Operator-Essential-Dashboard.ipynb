{
 "cells": [
  {
   "cell_type": "markdown",
   "metadata": {
    "colab_type": "text",
    "id": "xidJPKQx8olz"
   },
   "source": [
    "## 事前準備\n",
    "\n",
    "必要な依存関係のインポートや定数の定義をします"
   ]
  },
  {
   "cell_type": "code",
   "execution_count": null,
   "metadata": {
    "colab": {
     "base_uri": "https://localhost:8080/",
     "height": 360
    },
    "colab_type": "code",
    "id": "BO8zIAy2Hd09",
    "outputId": "d0bb380c-9b83-4a19-e92f-55acd8a52d45"
   },
   "outputs": [],
   "source": [
    "from pandas import *\n",
    "from pylab import *\n",
    "%matplotlib inline\n",
    "import matplotlib.pyplot as plt\n",
    "plt.style.use('ggplot')\n",
    "\n",
    "from matplotlib.gridspec import GridSpec\n",
    "from soracom_client import SoracomClient"
   ]
  },
  {
   "cell_type": "markdown",
   "metadata": {},
   "source": [
    "## SORACOM APIを呼び出して各種データを取得\n",
    "\n",
    "SIM一覧、トラフィック、エラーログなどを取得します"
   ]
  },
  {
   "cell_type": "code",
   "execution_count": null,
   "metadata": {},
   "outputs": [],
   "source": [
    "sc = SoracomClient()\n",
    "duration_days = 14\n",
    "subscribers = sc.getSubscribers()\n",
    "traffic = sc.getAirStatsByDay(duration_days)\n",
    "logs = sc.getLogs(duration_days)"
   ]
  },
  {
   "cell_type": "markdown",
   "metadata": {
    "colab_type": "text",
    "id": "EL3mDQ94BKA4"
   },
   "source": [
    "## レポートを描画\n",
    "\n",
    "各種メトリクスと、エラーログを描画します。\n",
    "エラーログについては若干乱暴ですが、DataFrameをそのまま表示します。（便利なので）"
   ]
  },
  {
   "cell_type": "code",
   "execution_count": null,
   "metadata": {
    "colab": {},
    "colab_type": "code",
    "id": "x1lVVXcEBPPc"
   },
   "outputs": [],
   "source": [
    "fig = plt.figure(constrained_layout=True, figsize=(15,15))\n",
    "gs = GridSpec(4,3, figure=fig)\n",
    "\n",
    "#ax = axes[0,0]\n",
    "ax = fig.add_subplot(gs[0,0])\n",
    "ax.set_title('# of SIM by status')\n",
    "subscribers.groupby(['status'])['imsi'].count().plot.bar(ax=ax)\n",
    "\n",
    "#ax = axes[0,1]\n",
    "ax = fig.add_subplot(gs[0,1])\n",
    "ax.set_title('# of SIM by speed class')\n",
    "subscribers.groupby(['speedClass'])['imsi'].count().plot.bar(ax=ax)\n",
    "\n",
    "#ax = axes[0,2]\n",
    "ax = fig.add_subplot(gs[0,2])\n",
    "ax.set_title('# of SIM by online')\n",
    "subscribers.groupby(['online'])['imsi'].count().plot.bar(ax=ax)\n",
    "\n",
    "ax = fig.add_subplot(gs[1,:])\n",
    "traffic.groupby(['dates'])[[\n",
    "    'downloadByteSizeTotal',\n",
    "    'uploadByteSizeTotal'\n",
    "]] \\\n",
    "    .sum().plot(\n",
    "        ax=ax,\n",
    "        title=\"Traffic usage by day\"\n",
    "    )\n",
    "\n",
    "ax = fig.add_subplot(gs[2,:])\n",
    "topNdownload = traffic.groupby(['imsi'])['downloadByteSizeTotal'] \\\n",
    "    .sum().head(10).index.tolist()\n",
    "traffic[traffic['imsi'].isin(topNdownload)] \\\n",
    "    .groupby(['dates','name'])['downloadByteSizeTotal'] \\\n",
    "    .sum().unstack().plot(\n",
    "        ax=ax,\n",
    "        title=\"Top 10 download by SIM\"\n",
    "    )\n",
    "\n",
    "ax = fig.add_subplot(gs[3,:])\n",
    "topNupload = traffic.groupby(['imsi'])['uploadByteSizeTotal'] \\\n",
    "    .sum().head(10).index.tolist()\n",
    "traffic[traffic['imsi'].isin(topNdownload)] \\\n",
    "    .groupby(['dates','name'])['uploadByteSizeTotal'] \\\n",
    "    .sum().unstack().plot(\n",
    "        ax=ax,\n",
    "        title=\"Top 10 upload by SIM\"\n",
    "    )\n",
    "\n",
    "plt.show()"
   ]
  },
  {
   "cell_type": "code",
   "execution_count": null,
   "metadata": {},
   "outputs": [],
   "source": [
    "logs[['service','resourceType','resourceId','logLevel','message']]"
   ]
  }
 ],
 "metadata": {
  "colab": {
   "name": "soracom-analysis.ipynb",
   "provenance": []
  },
  "kernelspec": {
   "display_name": "Python 3",
   "language": "python",
   "name": "python3"
  },
  "language_info": {
   "codemirror_mode": {
    "name": "ipython",
    "version": 3
   },
   "file_extension": ".py",
   "mimetype": "text/x-python",
   "name": "python",
   "nbconvert_exporter": "python",
   "pygments_lexer": "ipython3",
   "version": "3.7.6"
  }
 },
 "nbformat": 4,
 "nbformat_minor": 1
}
